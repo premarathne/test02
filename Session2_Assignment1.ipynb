{
 "cells": [
  {
   "cell_type": "code",
   "execution_count": 2,
   "metadata": {},
   "outputs": [
    {
     "data": {
      "text/plain": [
       "15"
      ]
     },
     "execution_count": 2,
     "metadata": {},
     "output_type": "execute_result"
    }
   ],
   "source": [
    "#Task 1\n",
    "#1.1\n",
    "def myreduce(func,seq):\n",
    "  aggregation=seq[0]\n",
    "  for i in seq[1:]:\n",
    "    aggregation=func(i,aggregation)\n",
    "  return aggregation\n",
    "def func(x,y):\n",
    "  return x+y \n",
    "myreduce(func,[1,2,3,4,5])"
   ]
  },
  {
   "cell_type": "code",
   "execution_count": 3,
   "metadata": {},
   "outputs": [
    {
     "data": {
      "text/plain": [
       "[2, 4, 6]"
      ]
     },
     "execution_count": 3,
     "metadata": {},
     "output_type": "execute_result"
    }
   ],
   "source": [
    "#1.2\n",
    "def myfilter(func,seq):\n",
    "  answer=[] \n",
    "  for i in seq:\n",
    "    if(func(i)):\n",
    "      answer.append(i)\n",
    "  return answer\n",
    "def func(x):\n",
    "   if(x%2==0):\n",
    "     return True\n",
    "   else:\n",
    "     return False\n",
    "myfilter(func,[2,3,4,5,6])"
   ]
  },
  {
   "cell_type": "code",
   "execution_count": 4,
   "metadata": {},
   "outputs": [
    {
     "data": {
      "text/plain": [
       "['A', 'C', 'A', 'D', 'G', 'I', 'L', 'D']"
      ]
     },
     "execution_count": 4,
     "metadata": {},
     "output_type": "execute_result"
    }
   ],
   "source": [
    "#2\n",
    "word='ACADGILD'\n",
    "list=[letter for letter in word]\n",
    "list"
   ]
  },
  {
   "cell_type": "code",
   "execution_count": 5,
   "metadata": {},
   "outputs": [
    {
     "data": {
      "text/plain": [
       "['x', 'xx', 'xxx', 'xxxx', 'y', 'yy', 'yyy', 'yyyy', 'z', 'zz', 'zzz', 'zzzz']"
      ]
     },
     "execution_count": 5,
     "metadata": {},
     "output_type": "execute_result"
    }
   ],
   "source": [
    "list=['x','y','z']\n",
    "list2=[i*j for i in list for j in range(1,5)]\n",
    "list2"
   ]
  },
  {
   "cell_type": "code",
   "execution_count": 6,
   "metadata": {},
   "outputs": [
    {
     "data": {
      "text/plain": [
       "['x', 'y', 'z', 'xx', 'yy', 'zz', 'xxx', 'yyy', 'zzz', 'xxxx', 'yyyy', 'zzzz']"
      ]
     },
     "execution_count": 6,
     "metadata": {},
     "output_type": "execute_result"
    }
   ],
   "source": [
    "list=['x','y','z']\n",
    "list2=[i*j for j in range(1,5) for i in list]\n",
    "list2"
   ]
  },
  {
   "cell_type": "code",
   "execution_count": 7,
   "metadata": {},
   "outputs": [
    {
     "data": {
      "text/plain": [
       "[[2], [3], [4], [3], [4], [5], [4], [5], [6]]"
      ]
     },
     "execution_count": 7,
     "metadata": {},
     "output_type": "execute_result"
    }
   ],
   "source": [
    "list=[[j]for i in range(2,5) for j in range(i,i+3)]\n",
    "list"
   ]
  },
  {
   "cell_type": "code",
   "execution_count": 8,
   "metadata": {},
   "outputs": [
    {
     "data": {
      "text/plain": [
       "[[2, 3, 4, 5], [3, 4, 5, 6], [4, 5, 6, 7], [5, 6, 7, 8]]"
      ]
     },
     "execution_count": 8,
     "metadata": {},
     "output_type": "execute_result"
    }
   ],
   "source": [
    "list=[ [j for j in range(i,i+4)] for i in range(2,6)]\n",
    "list"
   ]
  },
  {
   "cell_type": "code",
   "execution_count": 9,
   "metadata": {},
   "outputs": [
    {
     "data": {
      "text/plain": [
       "[(1, 1), (2, 1), (3, 1), (1, 2), (2, 2), (3, 2), (1, 3), (2, 3), (3, 3)]"
      ]
     },
     "execution_count": 9,
     "metadata": {},
     "output_type": "execute_result"
    }
   ],
   "source": [
    "list=[(j,i) for i in range(1,4) for j in range(1,4)]\n",
    "list"
   ]
  },
  {
   "cell_type": "code",
   "execution_count": 10,
   "metadata": {},
   "outputs": [
    {
     "data": {
      "text/plain": [
       "'address'"
      ]
     },
     "execution_count": 10,
     "metadata": {},
     "output_type": "execute_result"
    }
   ],
   "source": [
    "#3\n",
    "def func(list):\n",
    "  longstr=list[0]\n",
    "  for i in range(1,len(list)):\n",
    "    if(len(list[i])>len(list[i-1])):\n",
    "      longstr=list[i]\n",
    "  return longstr\n",
    "func(['name','age','address','email'])"
   ]
  },
  {
   "cell_type": "code",
   "execution_count": 11,
   "metadata": {},
   "outputs": [
    {
     "data": {
      "text/plain": [
       "'Area of the Triangle is 2.9047375096555625'"
      ]
     },
     "execution_count": 11,
     "metadata": {},
     "output_type": "execute_result"
    }
   ],
   "source": [
    "#Task 2\n",
    "#1.1\n",
    "class triangle:\n",
    "    def __init__ (self,a,b,c):\n",
    "      self.a=a\n",
    "      self.b=b\n",
    "      self.c=c\n",
    "class find_Area(triangle):\n",
    "    def __init__(self,*args):\n",
    "      super().__init__(*args)\n",
    "    def calculate_area(self):\n",
    "      s=(self.a+self.b+self.c)/2\n",
    "      area=(s*(s-self.a)*(s-self.b)*(s-self.c))** 0.5\n",
    "      return \"Area of the Triangle is %a\"%area\n",
    "f=find_Area(2,3,4)\n",
    "f.calculate_area()"
   ]
  },
  {
   "cell_type": "code",
   "execution_count": 12,
   "metadata": {},
   "outputs": [
    {
     "data": {
      "text/plain": [
       "['name', 'email', 'address']"
      ]
     },
     "execution_count": 12,
     "metadata": {},
     "output_type": "execute_result"
    }
   ],
   "source": [
    "#1.2\n",
    "def filter_long_words(list,n):\n",
    "  list1=[]\n",
    "  for i in list:\n",
    "    if(len(i)>n):\n",
    "      list1.append(i)\n",
    "  return list1\n",
    "\n",
    "filter_long_words(['name','age','email','address'],3)"
   ]
  },
  {
   "cell_type": "code",
   "execution_count": 13,
   "metadata": {},
   "outputs": [
    {
     "data": {
      "text/plain": [
       "[2, 3, 4]"
      ]
     },
     "execution_count": 13,
     "metadata": {},
     "output_type": "execute_result"
    }
   ],
   "source": [
    "#2.1\n",
    "def length_of_words(list):\n",
    "  list1=[]\n",
    "  for i in list:\n",
    "    list1.append(len(i))\n",
    "  return list1\n",
    "length_of_words(['ab','cde','enty'])"
   ]
  },
  {
   "cell_type": "code",
   "execution_count": 14,
   "metadata": {},
   "outputs": [
    {
     "data": {
      "text/plain": [
       "False"
      ]
     },
     "execution_count": 14,
     "metadata": {},
     "output_type": "execute_result"
    }
   ],
   "source": [
    "#2.2\n",
    "def check_vowel(character):\n",
    "  list=['a','e','i','o','u']\n",
    "  for i in list:\n",
    "    if(character==i):\n",
    "      return True\n",
    "    else:\n",
    "      return False\n",
    "check_vowel('k')"
   ]
  },
  {
   "cell_type": "code",
   "execution_count": null,
   "metadata": {},
   "outputs": [],
   "source": []
  }
 ],
 "metadata": {
  "kernelspec": {
   "display_name": "Python 3",
   "language": "python",
   "name": "python3"
  },
  "language_info": {
   "codemirror_mode": {
    "name": "ipython",
    "version": 3
   },
   "file_extension": ".py",
   "mimetype": "text/x-python",
   "name": "python",
   "nbconvert_exporter": "python",
   "pygments_lexer": "ipython3",
   "version": "3.7.4"
  }
 },
 "nbformat": 4,
 "nbformat_minor": 2
}
